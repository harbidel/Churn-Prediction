{
  "nbformat": 4,
  "nbformat_minor": 5,
  "metadata": {
    "kernelspec": {
      "display_name": "Python 3",
      "language": "python",
      "name": "python3"
    },
    "language_info": {
      "codemirror_mode": {
        "name": "ipython",
        "version": 3
      },
      "file_extension": ".py",
      "mimetype": "text/x-python",
      "name": "python",
      "nbconvert_exporter": "python",
      "pygments_lexer": "ipython3",
      "version": "3.8.8"
    },
    "colab": {
      "name": "ProgrammingforDataScience.ipynb",
      "provenance": []
    }
  },
  "cells": [
    {
      "cell_type": "markdown",
      "metadata": {
        "id": "7ac601c4"
      },
      "source": [
        "import numpy as np\n",
        "import seaborn as sns\n",
        "import matplotlib.pyplot as plt\n",
        "from sklearn.model_selection import train_test_split\n",
        "from sklearn.linear_model import LogisticRegression\n",
        "from sklearn.neighbors import KNeighborsClassifier\n",
        "from sklearn.ensemble import RandomForestClassifier\n",
        "import os\n"
      ],
      "id": "7ac601c4"
    },
    {
      "cell_type": "code",
      "metadata": {
        "id": "d90ea718",
        "outputId": "e7a90999-26a7-4e43-8e77-9290b6afc81e"
      },
      "source": [
        "pwd"
      ],
      "id": "d90ea718",
      "execution_count": null,
      "outputs": [
        {
          "data": {
            "text/plain": [
              "'C:\\\\Users\\\\shola'"
            ]
          },
          "execution_count": 110,
          "metadata": {},
          "output_type": "execute_result"
        }
      ]
    },
    {
      "cell_type": "code",
      "metadata": {
        "id": "KglGvDJn9ysu"
      },
      "source": [
        "import numpy as np\n",
        "import pandas as pd\n",
        "import matplotlib.pyplot as plt\n",
        "import seaborn as sns"
      ],
      "id": "KglGvDJn9ysu",
      "execution_count": 1,
      "outputs": []
    },
    {
      "cell_type": "code",
      "metadata": {
        "colab": {
          "base_uri": "https://localhost:8080/",
          "height": 313
        },
        "id": "74508079",
        "outputId": "7cbfad4d-ebf9-4a0e-db69-10d690235356"
      },
      "source": [
        "df = pd.read_csv('/content/Telco-Customer-Churn.csv')\n",
        "df.head()"
      ],
      "id": "74508079",
      "execution_count": 2,
      "outputs": [
        {
          "output_type": "execute_result",
          "data": {
            "text/html": [
              "<div>\n",
              "<style scoped>\n",
              "    .dataframe tbody tr th:only-of-type {\n",
              "        vertical-align: middle;\n",
              "    }\n",
              "\n",
              "    .dataframe tbody tr th {\n",
              "        vertical-align: top;\n",
              "    }\n",
              "\n",
              "    .dataframe thead th {\n",
              "        text-align: right;\n",
              "    }\n",
              "</style>\n",
              "<table border=\"1\" class=\"dataframe\">\n",
              "  <thead>\n",
              "    <tr style=\"text-align: right;\">\n",
              "      <th></th>\n",
              "      <th>customerID</th>\n",
              "      <th>gender</th>\n",
              "      <th>SeniorCitizen</th>\n",
              "      <th>Partner</th>\n",
              "      <th>Dependents</th>\n",
              "      <th>tenure</th>\n",
              "      <th>PhoneService</th>\n",
              "      <th>MultipleLines</th>\n",
              "      <th>InternetService</th>\n",
              "      <th>OnlineSecurity</th>\n",
              "      <th>OnlineBackup</th>\n",
              "      <th>DeviceProtection</th>\n",
              "      <th>TechSupport</th>\n",
              "      <th>StreamingTV</th>\n",
              "      <th>StreamingMovies</th>\n",
              "      <th>Contract</th>\n",
              "      <th>PaperlessBilling</th>\n",
              "      <th>PaymentMethod</th>\n",
              "      <th>MonthlyCharges</th>\n",
              "      <th>TotalCharges</th>\n",
              "      <th>Churn</th>\n",
              "    </tr>\n",
              "  </thead>\n",
              "  <tbody>\n",
              "    <tr>\n",
              "      <th>0</th>\n",
              "      <td>7590-VHVEG</td>\n",
              "      <td>Female</td>\n",
              "      <td>0</td>\n",
              "      <td>Yes</td>\n",
              "      <td>No</td>\n",
              "      <td>1</td>\n",
              "      <td>No</td>\n",
              "      <td>No phone service</td>\n",
              "      <td>DSL</td>\n",
              "      <td>No</td>\n",
              "      <td>Yes</td>\n",
              "      <td>No</td>\n",
              "      <td>No</td>\n",
              "      <td>No</td>\n",
              "      <td>No</td>\n",
              "      <td>Month-to-month</td>\n",
              "      <td>Yes</td>\n",
              "      <td>Electronic check</td>\n",
              "      <td>29.85</td>\n",
              "      <td>29.85</td>\n",
              "      <td>No</td>\n",
              "    </tr>\n",
              "    <tr>\n",
              "      <th>1</th>\n",
              "      <td>5575-GNVDE</td>\n",
              "      <td>Male</td>\n",
              "      <td>0</td>\n",
              "      <td>No</td>\n",
              "      <td>No</td>\n",
              "      <td>34</td>\n",
              "      <td>Yes</td>\n",
              "      <td>No</td>\n",
              "      <td>DSL</td>\n",
              "      <td>Yes</td>\n",
              "      <td>No</td>\n",
              "      <td>Yes</td>\n",
              "      <td>No</td>\n",
              "      <td>No</td>\n",
              "      <td>No</td>\n",
              "      <td>One year</td>\n",
              "      <td>No</td>\n",
              "      <td>Mailed check</td>\n",
              "      <td>56.95</td>\n",
              "      <td>1889.50</td>\n",
              "      <td>No</td>\n",
              "    </tr>\n",
              "    <tr>\n",
              "      <th>2</th>\n",
              "      <td>3668-QPYBK</td>\n",
              "      <td>Male</td>\n",
              "      <td>0</td>\n",
              "      <td>No</td>\n",
              "      <td>No</td>\n",
              "      <td>2</td>\n",
              "      <td>Yes</td>\n",
              "      <td>No</td>\n",
              "      <td>DSL</td>\n",
              "      <td>Yes</td>\n",
              "      <td>Yes</td>\n",
              "      <td>No</td>\n",
              "      <td>No</td>\n",
              "      <td>No</td>\n",
              "      <td>No</td>\n",
              "      <td>Month-to-month</td>\n",
              "      <td>Yes</td>\n",
              "      <td>Mailed check</td>\n",
              "      <td>53.85</td>\n",
              "      <td>108.15</td>\n",
              "      <td>Yes</td>\n",
              "    </tr>\n",
              "    <tr>\n",
              "      <th>3</th>\n",
              "      <td>7795-CFOCW</td>\n",
              "      <td>Male</td>\n",
              "      <td>0</td>\n",
              "      <td>No</td>\n",
              "      <td>No</td>\n",
              "      <td>45</td>\n",
              "      <td>No</td>\n",
              "      <td>No phone service</td>\n",
              "      <td>DSL</td>\n",
              "      <td>Yes</td>\n",
              "      <td>No</td>\n",
              "      <td>Yes</td>\n",
              "      <td>Yes</td>\n",
              "      <td>No</td>\n",
              "      <td>No</td>\n",
              "      <td>One year</td>\n",
              "      <td>No</td>\n",
              "      <td>Bank transfer (automatic)</td>\n",
              "      <td>42.30</td>\n",
              "      <td>1840.75</td>\n",
              "      <td>No</td>\n",
              "    </tr>\n",
              "    <tr>\n",
              "      <th>4</th>\n",
              "      <td>9237-HQITU</td>\n",
              "      <td>Female</td>\n",
              "      <td>0</td>\n",
              "      <td>No</td>\n",
              "      <td>No</td>\n",
              "      <td>2</td>\n",
              "      <td>Yes</td>\n",
              "      <td>No</td>\n",
              "      <td>Fiber optic</td>\n",
              "      <td>No</td>\n",
              "      <td>No</td>\n",
              "      <td>No</td>\n",
              "      <td>No</td>\n",
              "      <td>No</td>\n",
              "      <td>No</td>\n",
              "      <td>Month-to-month</td>\n",
              "      <td>Yes</td>\n",
              "      <td>Electronic check</td>\n",
              "      <td>70.70</td>\n",
              "      <td>151.65</td>\n",
              "      <td>Yes</td>\n",
              "    </tr>\n",
              "  </tbody>\n",
              "</table>\n",
              "</div>"
            ],
            "text/plain": [
              "   customerID  gender  SeniorCitizen  ... MonthlyCharges TotalCharges  Churn\n",
              "0  7590-VHVEG  Female              0  ...          29.85        29.85     No\n",
              "1  5575-GNVDE    Male              0  ...          56.95      1889.50     No\n",
              "2  3668-QPYBK    Male              0  ...          53.85       108.15    Yes\n",
              "3  7795-CFOCW    Male              0  ...          42.30      1840.75     No\n",
              "4  9237-HQITU  Female              0  ...          70.70       151.65    Yes\n",
              "\n",
              "[5 rows x 21 columns]"
            ]
          },
          "metadata": {},
          "execution_count": 2
        }
      ]
    },
    {
      "cell_type": "code",
      "metadata": {
        "colab": {
          "base_uri": "https://localhost:8080/"
        },
        "id": "3de49e2e",
        "outputId": "f9efc873-03ff-4f38-a970-db39173ed2fe"
      },
      "source": [
        "df.info()"
      ],
      "id": "3de49e2e",
      "execution_count": 3,
      "outputs": [
        {
          "output_type": "stream",
          "name": "stdout",
          "text": [
            "<class 'pandas.core.frame.DataFrame'>\n",
            "RangeIndex: 7032 entries, 0 to 7031\n",
            "Data columns (total 21 columns):\n",
            " #   Column            Non-Null Count  Dtype  \n",
            "---  ------            --------------  -----  \n",
            " 0   customerID        7032 non-null   object \n",
            " 1   gender            7032 non-null   object \n",
            " 2   SeniorCitizen     7032 non-null   int64  \n",
            " 3   Partner           7032 non-null   object \n",
            " 4   Dependents        7032 non-null   object \n",
            " 5   tenure            7032 non-null   int64  \n",
            " 6   PhoneService      7032 non-null   object \n",
            " 7   MultipleLines     7032 non-null   object \n",
            " 8   InternetService   7032 non-null   object \n",
            " 9   OnlineSecurity    7032 non-null   object \n",
            " 10  OnlineBackup      7032 non-null   object \n",
            " 11  DeviceProtection  7032 non-null   object \n",
            " 12  TechSupport       7032 non-null   object \n",
            " 13  StreamingTV       7032 non-null   object \n",
            " 14  StreamingMovies   7032 non-null   object \n",
            " 15  Contract          7032 non-null   object \n",
            " 16  PaperlessBilling  7032 non-null   object \n",
            " 17  PaymentMethod     7032 non-null   object \n",
            " 18  MonthlyCharges    7032 non-null   float64\n",
            " 19  TotalCharges      7032 non-null   float64\n",
            " 20  Churn             7032 non-null   object \n",
            "dtypes: float64(2), int64(2), object(17)\n",
            "memory usage: 1.1+ MB\n"
          ]
        }
      ]
    },
    {
      "cell_type": "code",
      "metadata": {
        "colab": {
          "base_uri": "https://localhost:8080/"
        },
        "id": "27cc7550",
        "outputId": "64773a3e-8087-4d04-cf0a-a1e233d46ff9"
      },
      "source": [
        "df.dtypes"
      ],
      "id": "27cc7550",
      "execution_count": 4,
      "outputs": [
        {
          "output_type": "execute_result",
          "data": {
            "text/plain": [
              "customerID           object\n",
              "gender               object\n",
              "SeniorCitizen         int64\n",
              "Partner              object\n",
              "Dependents           object\n",
              "tenure                int64\n",
              "PhoneService         object\n",
              "MultipleLines        object\n",
              "InternetService      object\n",
              "OnlineSecurity       object\n",
              "OnlineBackup         object\n",
              "DeviceProtection     object\n",
              "TechSupport          object\n",
              "StreamingTV          object\n",
              "StreamingMovies      object\n",
              "Contract             object\n",
              "PaperlessBilling     object\n",
              "PaymentMethod        object\n",
              "MonthlyCharges      float64\n",
              "TotalCharges        float64\n",
              "Churn                object\n",
              "dtype: object"
            ]
          },
          "metadata": {},
          "execution_count": 4
        }
      ]
    },
    {
      "cell_type": "code",
      "metadata": {
        "colab": {
          "base_uri": "https://localhost:8080/"
        },
        "id": "36630f21",
        "outputId": "bd6dc24f-c6f5-4cfe-c256-c8ac03a7a44f"
      },
      "source": [
        "df.shape"
      ],
      "id": "36630f21",
      "execution_count": 5,
      "outputs": [
        {
          "output_type": "execute_result",
          "data": {
            "text/plain": [
              "(7032, 21)"
            ]
          },
          "metadata": {},
          "execution_count": 5
        }
      ]
    },
    {
      "cell_type": "code",
      "metadata": {
        "colab": {
          "base_uri": "https://localhost:8080/",
          "height": 300
        },
        "id": "44b87d85",
        "outputId": "ff906672-89d3-4bf2-d0f9-fd8f7a085716"
      },
      "source": [
        "df.describe()"
      ],
      "id": "44b87d85",
      "execution_count": 6,
      "outputs": [
        {
          "output_type": "execute_result",
          "data": {
            "text/html": [
              "<div>\n",
              "<style scoped>\n",
              "    .dataframe tbody tr th:only-of-type {\n",
              "        vertical-align: middle;\n",
              "    }\n",
              "\n",
              "    .dataframe tbody tr th {\n",
              "        vertical-align: top;\n",
              "    }\n",
              "\n",
              "    .dataframe thead th {\n",
              "        text-align: right;\n",
              "    }\n",
              "</style>\n",
              "<table border=\"1\" class=\"dataframe\">\n",
              "  <thead>\n",
              "    <tr style=\"text-align: right;\">\n",
              "      <th></th>\n",
              "      <th>SeniorCitizen</th>\n",
              "      <th>tenure</th>\n",
              "      <th>MonthlyCharges</th>\n",
              "      <th>TotalCharges</th>\n",
              "    </tr>\n",
              "  </thead>\n",
              "  <tbody>\n",
              "    <tr>\n",
              "      <th>count</th>\n",
              "      <td>7032.000000</td>\n",
              "      <td>7032.000000</td>\n",
              "      <td>7032.000000</td>\n",
              "      <td>7032.000000</td>\n",
              "    </tr>\n",
              "    <tr>\n",
              "      <th>mean</th>\n",
              "      <td>0.162400</td>\n",
              "      <td>32.421786</td>\n",
              "      <td>64.798208</td>\n",
              "      <td>2283.300441</td>\n",
              "    </tr>\n",
              "    <tr>\n",
              "      <th>std</th>\n",
              "      <td>0.368844</td>\n",
              "      <td>24.545260</td>\n",
              "      <td>30.085974</td>\n",
              "      <td>2266.771362</td>\n",
              "    </tr>\n",
              "    <tr>\n",
              "      <th>min</th>\n",
              "      <td>0.000000</td>\n",
              "      <td>1.000000</td>\n",
              "      <td>18.250000</td>\n",
              "      <td>18.800000</td>\n",
              "    </tr>\n",
              "    <tr>\n",
              "      <th>25%</th>\n",
              "      <td>0.000000</td>\n",
              "      <td>9.000000</td>\n",
              "      <td>35.587500</td>\n",
              "      <td>401.450000</td>\n",
              "    </tr>\n",
              "    <tr>\n",
              "      <th>50%</th>\n",
              "      <td>0.000000</td>\n",
              "      <td>29.000000</td>\n",
              "      <td>70.350000</td>\n",
              "      <td>1397.475000</td>\n",
              "    </tr>\n",
              "    <tr>\n",
              "      <th>75%</th>\n",
              "      <td>0.000000</td>\n",
              "      <td>55.000000</td>\n",
              "      <td>89.862500</td>\n",
              "      <td>3794.737500</td>\n",
              "    </tr>\n",
              "    <tr>\n",
              "      <th>max</th>\n",
              "      <td>1.000000</td>\n",
              "      <td>72.000000</td>\n",
              "      <td>118.750000</td>\n",
              "      <td>8684.800000</td>\n",
              "    </tr>\n",
              "  </tbody>\n",
              "</table>\n",
              "</div>"
            ],
            "text/plain": [
              "       SeniorCitizen       tenure  MonthlyCharges  TotalCharges\n",
              "count    7032.000000  7032.000000     7032.000000   7032.000000\n",
              "mean        0.162400    32.421786       64.798208   2283.300441\n",
              "std         0.368844    24.545260       30.085974   2266.771362\n",
              "min         0.000000     1.000000       18.250000     18.800000\n",
              "25%         0.000000     9.000000       35.587500    401.450000\n",
              "50%         0.000000    29.000000       70.350000   1397.475000\n",
              "75%         0.000000    55.000000       89.862500   3794.737500\n",
              "max         1.000000    72.000000      118.750000   8684.800000"
            ]
          },
          "metadata": {},
          "execution_count": 6
        }
      ]
    },
    {
      "cell_type": "code",
      "metadata": {
        "colab": {
          "base_uri": "https://localhost:8080/"
        },
        "id": "4a4d5408",
        "outputId": "6929c3cd-cedc-4b12-a249-7917cd0d5612"
      },
      "source": [
        "df.isnull().sum()"
      ],
      "id": "4a4d5408",
      "execution_count": 7,
      "outputs": [
        {
          "output_type": "execute_result",
          "data": {
            "text/plain": [
              "customerID          0\n",
              "gender              0\n",
              "SeniorCitizen       0\n",
              "Partner             0\n",
              "Dependents          0\n",
              "tenure              0\n",
              "PhoneService        0\n",
              "MultipleLines       0\n",
              "InternetService     0\n",
              "OnlineSecurity      0\n",
              "OnlineBackup        0\n",
              "DeviceProtection    0\n",
              "TechSupport         0\n",
              "StreamingTV         0\n",
              "StreamingMovies     0\n",
              "Contract            0\n",
              "PaperlessBilling    0\n",
              "PaymentMethod       0\n",
              "MonthlyCharges      0\n",
              "TotalCharges        0\n",
              "Churn               0\n",
              "dtype: int64"
            ]
          },
          "metadata": {},
          "execution_count": 7
        }
      ]
    },
    {
      "cell_type": "code",
      "metadata": {
        "id": "f0902580"
      },
      "source": [
        "df.drop('customerID', axis=1, inplace=True)\n"
      ],
      "id": "f0902580",
      "execution_count": 8,
      "outputs": []
    },
    {
      "cell_type": "code",
      "metadata": {
        "colab": {
          "base_uri": "https://localhost:8080/"
        },
        "id": "651df774",
        "outputId": "f8e2f0d1-d1ad-43df-c72d-6c1b8ee3577f"
      },
      "source": [
        "df['TotalCharges'] = df['TotalCharges'].astype(float, errors = 'raise')\n",
        "df['TotalCharges'].dtype"
      ],
      "id": "651df774",
      "execution_count": 9,
      "outputs": [
        {
          "output_type": "execute_result",
          "data": {
            "text/plain": [
              "dtype('float64')"
            ]
          },
          "metadata": {},
          "execution_count": 9
        }
      ]
    },
    {
      "cell_type": "code",
      "metadata": {
        "colab": {
          "base_uri": "https://localhost:8080/"
        },
        "id": "8db45107",
        "outputId": "d424309f-d239-4965-924b-5355c0b2eccd"
      },
      "source": [
        "df.SeniorCitizen.unique()"
      ],
      "id": "8db45107",
      "execution_count": 10,
      "outputs": [
        {
          "output_type": "execute_result",
          "data": {
            "text/plain": [
              "array([0, 1])"
            ]
          },
          "metadata": {},
          "execution_count": 10
        }
      ]
    },
    {
      "cell_type": "code",
      "metadata": {
        "colab": {
          "base_uri": "https://localhost:8080/"
        },
        "id": "2d5844f5",
        "outputId": "8851025a-c87c-462c-a85b-402decd89f54"
      },
      "source": [
        "df.gender.value_counts()"
      ],
      "id": "2d5844f5",
      "execution_count": 11,
      "outputs": [
        {
          "output_type": "execute_result",
          "data": {
            "text/plain": [
              "Male      3549\n",
              "Female    3483\n",
              "Name: gender, dtype: int64"
            ]
          },
          "metadata": {},
          "execution_count": 11
        }
      ]
    },
    {
      "cell_type": "code",
      "metadata": {
        "colab": {
          "base_uri": "https://localhost:8080/"
        },
        "id": "7fa7d495",
        "outputId": "5b31e6d3-50f7-47b9-c7fb-cc32db1b2afe"
      },
      "source": [
        "df.gender.unique()"
      ],
      "id": "7fa7d495",
      "execution_count": 12,
      "outputs": [
        {
          "output_type": "execute_result",
          "data": {
            "text/plain": [
              "array(['Female', 'Male'], dtype=object)"
            ]
          },
          "metadata": {},
          "execution_count": 12
        }
      ]
    },
    {
      "cell_type": "code",
      "metadata": {
        "colab": {
          "base_uri": "https://localhost:8080/"
        },
        "id": "be0c809a",
        "outputId": "97542883-3b23-412a-9e56-5d8920e4947a"
      },
      "source": [
        "df.Partner.unique()"
      ],
      "id": "be0c809a",
      "execution_count": 13,
      "outputs": [
        {
          "output_type": "execute_result",
          "data": {
            "text/plain": [
              "array(['Yes', 'No'], dtype=object)"
            ]
          },
          "metadata": {},
          "execution_count": 13
        }
      ]
    },
    {
      "cell_type": "code",
      "metadata": {
        "colab": {
          "base_uri": "https://localhost:8080/"
        },
        "id": "3cbb9c6f",
        "outputId": "03e32d70-bdb2-47a6-b411-2f5b7bde790f"
      },
      "source": [
        "df.tenure.unique()"
      ],
      "id": "3cbb9c6f",
      "execution_count": 14,
      "outputs": [
        {
          "output_type": "execute_result",
          "data": {
            "text/plain": [
              "array([ 1, 34,  2, 45,  8, 22, 10, 28, 62, 13, 16, 58, 49, 25, 69, 52, 71,\n",
              "       21, 12, 30, 47, 72, 17, 27,  5, 46, 11, 70, 63, 43, 15, 60, 18, 66,\n",
              "        9,  3, 31, 50, 64, 56,  7, 42, 35, 48, 29, 65, 38, 68, 32, 55, 37,\n",
              "       36, 41,  6,  4, 33, 67, 23, 57, 61, 14, 20, 53, 40, 59, 24, 44, 19,\n",
              "       54, 51, 26, 39])"
            ]
          },
          "metadata": {},
          "execution_count": 14
        }
      ]
    },
    {
      "cell_type": "code",
      "metadata": {
        "colab": {
          "base_uri": "https://localhost:8080/"
        },
        "id": "4b7e7a93",
        "outputId": "4f96ac21-de7c-4adf-d82d-6b0a35f60614"
      },
      "source": [
        "df.PhoneService = df.PhoneService.map({'No':0,'Yes':1})\n",
        "df.PhoneService.unique()"
      ],
      "id": "4b7e7a93",
      "execution_count": 15,
      "outputs": [
        {
          "output_type": "execute_result",
          "data": {
            "text/plain": [
              "array([0, 1])"
            ]
          },
          "metadata": {},
          "execution_count": 15
        }
      ]
    },
    {
      "cell_type": "code",
      "metadata": {
        "colab": {
          "base_uri": "https://localhost:8080/"
        },
        "id": "99643617",
        "outputId": "272a76b5-7c3c-4614-8d39-07cb28afbc3a"
      },
      "source": [
        "#df.MultipleLines.unique()\n",
        "df.MultipleLines =  df.MultipleLines.map({'No phone service':2,'No':0,'Yes':1})\n",
        "df.MultipleLines"
      ],
      "id": "99643617",
      "execution_count": 16,
      "outputs": [
        {
          "output_type": "execute_result",
          "data": {
            "text/plain": [
              "0       2\n",
              "1       0\n",
              "2       0\n",
              "3       2\n",
              "4       0\n",
              "       ..\n",
              "7027    1\n",
              "7028    1\n",
              "7029    2\n",
              "7030    1\n",
              "7031    0\n",
              "Name: MultipleLines, Length: 7032, dtype: int64"
            ]
          },
          "metadata": {},
          "execution_count": 16
        }
      ]
    },
    {
      "cell_type": "code",
      "metadata": {
        "colab": {
          "base_uri": "https://localhost:8080/"
        },
        "id": "aa696eeb",
        "outputId": "67f56af2-76ec-440a-a305-406a5b429c1e"
      },
      "source": [
        "df.InternetService.unique()"
      ],
      "id": "aa696eeb",
      "execution_count": 17,
      "outputs": [
        {
          "output_type": "execute_result",
          "data": {
            "text/plain": [
              "array(['DSL', 'Fiber optic', 'No'], dtype=object)"
            ]
          },
          "metadata": {},
          "execution_count": 17
        }
      ]
    },
    {
      "cell_type": "code",
      "metadata": {
        "colab": {
          "base_uri": "https://localhost:8080/"
        },
        "id": "ddb754f5",
        "outputId": "5477f74f-cf28-4491-d8f6-ec1b0a915ed1"
      },
      "source": [
        "df.OnlineSecurity.unique()\n",
        "df.OnlineSecurity = df.OnlineSecurity.map({'No':0,'Yes':1,'No internet service':2})\n",
        "df.OnlineSecurity"
      ],
      "id": "ddb754f5",
      "execution_count": 18,
      "outputs": [
        {
          "output_type": "execute_result",
          "data": {
            "text/plain": [
              "0       0\n",
              "1       1\n",
              "2       1\n",
              "3       1\n",
              "4       0\n",
              "       ..\n",
              "7027    1\n",
              "7028    0\n",
              "7029    1\n",
              "7030    0\n",
              "7031    1\n",
              "Name: OnlineSecurity, Length: 7032, dtype: int64"
            ]
          },
          "metadata": {},
          "execution_count": 18
        }
      ]
    },
    {
      "cell_type": "code",
      "metadata": {
        "id": "94218e00"
      },
      "source": [
        "df.StreamingTV.unique()\n",
        "df.StreamingTV = df.StreamingTV.map({'No':0,'Yes':1})"
      ],
      "id": "94218e00",
      "execution_count": 19,
      "outputs": []
    },
    {
      "cell_type": "code",
      "metadata": {
        "colab": {
          "base_uri": "https://localhost:8080/"
        },
        "id": "c40a4a61",
        "outputId": "96cf8715-1b31-4a0c-f901-327fdcfe59a8"
      },
      "source": [
        "df.Contract.unique()\n",
        "df.Contract = df.Contract.map({'Month-to-month':0,'One year':1,'Two year':2})\n",
        "df.Contract\n"
      ],
      "id": "c40a4a61",
      "execution_count": 20,
      "outputs": [
        {
          "output_type": "execute_result",
          "data": {
            "text/plain": [
              "0       0\n",
              "1       1\n",
              "2       0\n",
              "3       1\n",
              "4       0\n",
              "       ..\n",
              "7027    1\n",
              "7028    1\n",
              "7029    0\n",
              "7030    0\n",
              "7031    2\n",
              "Name: Contract, Length: 7032, dtype: int64"
            ]
          },
          "metadata": {},
          "execution_count": 20
        }
      ]
    },
    {
      "cell_type": "code",
      "metadata": {
        "id": "798411a2"
      },
      "source": [
        "df.Churn = df.Churn.map({'No':0,'Yes':1})"
      ],
      "id": "798411a2",
      "execution_count": 21,
      "outputs": []
    },
    {
      "cell_type": "code",
      "metadata": {
        "colab": {
          "base_uri": "https://localhost:8080/"
        },
        "id": "d1ad755f",
        "outputId": "22b383bc-0745-4cc5-ca37-c6725fb9ef86"
      },
      "source": [
        "df[\"Churn\"]=df[\"Churn\"].astype(float, errors = 'raise')\n",
        "df[\"Churn\"]"
      ],
      "id": "d1ad755f",
      "execution_count": 22,
      "outputs": [
        {
          "output_type": "execute_result",
          "data": {
            "text/plain": [
              "0       0.0\n",
              "1       0.0\n",
              "2       1.0\n",
              "3       0.0\n",
              "4       1.0\n",
              "       ... \n",
              "7027    0.0\n",
              "7028    0.0\n",
              "7029    0.0\n",
              "7030    1.0\n",
              "7031    0.0\n",
              "Name: Churn, Length: 7032, dtype: float64"
            ]
          },
          "metadata": {},
          "execution_count": 22
        }
      ]
    },
    {
      "cell_type": "code",
      "metadata": {
        "colab": {
          "base_uri": "https://localhost:8080/"
        },
        "id": "5d00be6c",
        "outputId": "bb72378e-c935-488b-ee34-a5b6b3c6bf22"
      },
      "source": [
        "df.PaymentMethod.unique()"
      ],
      "id": "5d00be6c",
      "execution_count": 23,
      "outputs": [
        {
          "output_type": "execute_result",
          "data": {
            "text/plain": [
              "array(['Electronic check', 'Mailed check', 'Bank transfer (automatic)',\n",
              "       'Credit card (automatic)'], dtype=object)"
            ]
          },
          "metadata": {},
          "execution_count": 23
        }
      ]
    },
    {
      "cell_type": "code",
      "metadata": {
        "id": "27b170a4"
      },
      "source": [
        "df[\"StreamingMovies\"] = df[\"StreamingMovies\"].map({\"No\":0,\"Yes\":1,\"No internet service\":2})\n",
        "# = df[\"StreamingMovies\"].astype(float, errors = 'raise')"
      ],
      "id": "27b170a4",
      "execution_count": 24,
      "outputs": []
    },
    {
      "cell_type": "code",
      "metadata": {
        "id": "d113a039"
      },
      "source": [
        "df.PaperlessBilling = df.PaperlessBilling.map({'Yes':1,'No':0})"
      ],
      "id": "d113a039",
      "execution_count": 25,
      "outputs": []
    },
    {
      "cell_type": "code",
      "metadata": {
        "id": "0450e32c"
      },
      "source": [
        "df['gender'] =df[\"gender\"].map({\"Female\":0, 'Male':1})\n",
        "#df.gender"
      ],
      "id": "0450e32c",
      "execution_count": 26,
      "outputs": []
    },
    {
      "cell_type": "code",
      "metadata": {
        "id": "1887d7f1"
      },
      "source": [
        "df.InternetService = df.InternetService.map({'DSL':0, 'Fiber optic':1,'No':2})\n",
        "#df.InternetService"
      ],
      "id": "1887d7f1",
      "execution_count": 27,
      "outputs": []
    },
    {
      "cell_type": "code",
      "metadata": {
        "colab": {
          "base_uri": "https://localhost:8080/"
        },
        "id": "bb6ff97b",
        "outputId": "c46f9b52-6be6-4d51-c4f4-eda4c2e1e121"
      },
      "source": [
        "df.OnlineBackup = df.OnlineBackup.map({'No':0,'Yes':1})\n",
        "df.OnlineBackup\n",
        "#df.OnlineSecurity = df.OnlineSecurity.map({'No':0,'yes':1,'No internet servicer':2})"
      ],
      "id": "bb6ff97b",
      "execution_count": 28,
      "outputs": [
        {
          "output_type": "execute_result",
          "data": {
            "text/plain": [
              "0       1.0\n",
              "1       0.0\n",
              "2       1.0\n",
              "3       0.0\n",
              "4       0.0\n",
              "       ... \n",
              "7027    0.0\n",
              "7028    1.0\n",
              "7029    0.0\n",
              "7030    0.0\n",
              "7031    0.0\n",
              "Name: OnlineBackup, Length: 7032, dtype: float64"
            ]
          },
          "metadata": {},
          "execution_count": 28
        }
      ]
    },
    {
      "cell_type": "code",
      "metadata": {
        "colab": {
          "base_uri": "https://localhost:8080/"
        },
        "id": "d41840fe",
        "outputId": "bf25eaf3-d57d-4070-b583-d8e219f5a9a0"
      },
      "source": [
        "df.Dependents\n",
        "df.Dependents = df.Dependents.map({'No':0,'Yes':1})\n",
        "df.Dependents\n",
        "#df.Contract"
      ],
      "id": "d41840fe",
      "execution_count": 29,
      "outputs": [
        {
          "output_type": "execute_result",
          "data": {
            "text/plain": [
              "0       0\n",
              "1       0\n",
              "2       0\n",
              "3       0\n",
              "4       0\n",
              "       ..\n",
              "7027    1\n",
              "7028    1\n",
              "7029    1\n",
              "7030    0\n",
              "7031    0\n",
              "Name: Dependents, Length: 7032, dtype: int64"
            ]
          },
          "metadata": {},
          "execution_count": 29
        }
      ]
    },
    {
      "cell_type": "code",
      "metadata": {
        "id": "cb2bbb69"
      },
      "source": [
        "df[\"DeviceProtection\"] = df[\"DeviceProtection\"].map({'No':0,'Yes':1,'No internet service':2})"
      ],
      "id": "cb2bbb69",
      "execution_count": 30,
      "outputs": []
    },
    {
      "cell_type": "code",
      "metadata": {
        "id": "78eda5c2"
      },
      "source": [
        "df[\"TechSupport\"] =df[\"TechSupport\"].map({'No':0,'Yes':1})"
      ],
      "id": "78eda5c2",
      "execution_count": 31,
      "outputs": []
    },
    {
      "cell_type": "code",
      "metadata": {
        "colab": {
          "base_uri": "https://localhost:8080/"
        },
        "id": "5bf57499",
        "outputId": "b646cd7b-f2a8-41d3-e437-4be4f8518692"
      },
      "source": [
        "df.Partner = df.Partner.map({'No':0,'Yes':1})\n",
        "df.Partner"
      ],
      "id": "5bf57499",
      "execution_count": 32,
      "outputs": [
        {
          "output_type": "execute_result",
          "data": {
            "text/plain": [
              "0       1\n",
              "1       0\n",
              "2       0\n",
              "3       0\n",
              "4       0\n",
              "       ..\n",
              "7027    1\n",
              "7028    1\n",
              "7029    1\n",
              "7030    1\n",
              "7031    0\n",
              "Name: Partner, Length: 7032, dtype: int64"
            ]
          },
          "metadata": {},
          "execution_count": 32
        }
      ]
    },
    {
      "cell_type": "code",
      "metadata": {
        "colab": {
          "base_uri": "https://localhost:8080/"
        },
        "id": "653c7620",
        "outputId": "e74ae99a-155e-43e1-ae63-34884e13852e"
      },
      "source": [
        "#df.PaymentMethod.unique()\n",
        "df.PaymentMethod = df.PaymentMethod.map({'Electronic check':0,'Mailed check':1,'Bank transfer (automatic)':2,'Credit card (automatic)':3})\n",
        "df.PaymentMethod"
      ],
      "id": "653c7620",
      "execution_count": 33,
      "outputs": [
        {
          "output_type": "execute_result",
          "data": {
            "text/plain": [
              "0       0\n",
              "1       1\n",
              "2       1\n",
              "3       2\n",
              "4       0\n",
              "       ..\n",
              "7027    1\n",
              "7028    3\n",
              "7029    0\n",
              "7030    1\n",
              "7031    2\n",
              "Name: PaymentMethod, Length: 7032, dtype: int64"
            ]
          },
          "metadata": {},
          "execution_count": 33
        }
      ]
    },
    {
      "cell_type": "code",
      "metadata": {
        "colab": {
          "base_uri": "https://localhost:8080/",
          "height": 697
        },
        "id": "83be454f",
        "outputId": "cee2f4ca-bdf6-46db-a7d1-8014392138a9"
      },
      "source": [
        "df.corr()"
      ],
      "id": "83be454f",
      "execution_count": 34,
      "outputs": [
        {
          "output_type": "execute_result",
          "data": {
            "text/html": [
              "<div>\n",
              "<style scoped>\n",
              "    .dataframe tbody tr th:only-of-type {\n",
              "        vertical-align: middle;\n",
              "    }\n",
              "\n",
              "    .dataframe tbody tr th {\n",
              "        vertical-align: top;\n",
              "    }\n",
              "\n",
              "    .dataframe thead th {\n",
              "        text-align: right;\n",
              "    }\n",
              "</style>\n",
              "<table border=\"1\" class=\"dataframe\">\n",
              "  <thead>\n",
              "    <tr style=\"text-align: right;\">\n",
              "      <th></th>\n",
              "      <th>gender</th>\n",
              "      <th>SeniorCitizen</th>\n",
              "      <th>Partner</th>\n",
              "      <th>Dependents</th>\n",
              "      <th>tenure</th>\n",
              "      <th>PhoneService</th>\n",
              "      <th>MultipleLines</th>\n",
              "      <th>InternetService</th>\n",
              "      <th>OnlineSecurity</th>\n",
              "      <th>OnlineBackup</th>\n",
              "      <th>DeviceProtection</th>\n",
              "      <th>TechSupport</th>\n",
              "      <th>StreamingTV</th>\n",
              "      <th>StreamingMovies</th>\n",
              "      <th>Contract</th>\n",
              "      <th>PaperlessBilling</th>\n",
              "      <th>PaymentMethod</th>\n",
              "      <th>MonthlyCharges</th>\n",
              "      <th>TotalCharges</th>\n",
              "      <th>Churn</th>\n",
              "    </tr>\n",
              "  </thead>\n",
              "  <tbody>\n",
              "    <tr>\n",
              "      <th>gender</th>\n",
              "      <td>1.000000</td>\n",
              "      <td>-0.001819</td>\n",
              "      <td>-0.001379</td>\n",
              "      <td>0.010349</td>\n",
              "      <td>0.005285</td>\n",
              "      <td>-0.007515</td>\n",
              "      <td>0.000084</td>\n",
              "      <td>-0.002236</td>\n",
              "      <td>-0.004365</td>\n",
              "      <td>-0.013786</td>\n",
              "      <td>0.004526</td>\n",
              "      <td>-0.008291</td>\n",
              "      <td>-0.006400</td>\n",
              "      <td>-0.001339</td>\n",
              "      <td>0.000095</td>\n",
              "      <td>-0.011902</td>\n",
              "      <td>-0.004928</td>\n",
              "      <td>-0.013779</td>\n",
              "      <td>0.000048</td>\n",
              "      <td>-0.008545</td>\n",
              "    </tr>\n",
              "    <tr>\n",
              "      <th>SeniorCitizen</th>\n",
              "      <td>-0.001819</td>\n",
              "      <td>1.000000</td>\n",
              "      <td>0.016957</td>\n",
              "      <td>-0.210550</td>\n",
              "      <td>0.015683</td>\n",
              "      <td>0.008392</td>\n",
              "      <td>0.100120</td>\n",
              "      <td>-0.032160</td>\n",
              "      <td>-0.210546</td>\n",
              "      <td>-0.003253</td>\n",
              "      <td>-0.156700</td>\n",
              "      <td>-0.135289</td>\n",
              "      <td>0.034150</td>\n",
              "      <td>-0.120658</td>\n",
              "      <td>-0.141820</td>\n",
              "      <td>0.156258</td>\n",
              "      <td>-0.093712</td>\n",
              "      <td>0.219874</td>\n",
              "      <td>0.102411</td>\n",
              "      <td>0.150541</td>\n",
              "    </tr>\n",
              "    <tr>\n",
              "      <th>Partner</th>\n",
              "      <td>-0.001379</td>\n",
              "      <td>0.016957</td>\n",
              "      <td>1.000000</td>\n",
              "      <td>0.452269</td>\n",
              "      <td>0.381912</td>\n",
              "      <td>0.018397</td>\n",
              "      <td>0.090774</td>\n",
              "      <td>0.000513</td>\n",
              "      <td>0.081078</td>\n",
              "      <td>0.173154</td>\n",
              "      <td>0.093391</td>\n",
              "      <td>0.144021</td>\n",
              "      <td>0.154387</td>\n",
              "      <td>0.075310</td>\n",
              "      <td>0.294094</td>\n",
              "      <td>-0.013957</td>\n",
              "      <td>0.133280</td>\n",
              "      <td>0.097825</td>\n",
              "      <td>0.319072</td>\n",
              "      <td>-0.149982</td>\n",
              "    </tr>\n",
              "    <tr>\n",
              "      <th>Dependents</th>\n",
              "      <td>0.010349</td>\n",
              "      <td>-0.210550</td>\n",
              "      <td>0.452269</td>\n",
              "      <td>1.000000</td>\n",
              "      <td>0.163386</td>\n",
              "      <td>-0.001078</td>\n",
              "      <td>-0.017333</td>\n",
              "      <td>0.044030</td>\n",
              "      <td>0.188889</td>\n",
              "      <td>0.096695</td>\n",
              "      <td>0.154819</td>\n",
              "      <td>0.136108</td>\n",
              "      <td>0.052660</td>\n",
              "      <td>0.125086</td>\n",
              "      <td>0.240556</td>\n",
              "      <td>-0.110131</td>\n",
              "      <td>0.124002</td>\n",
              "      <td>-0.112343</td>\n",
              "      <td>0.064653</td>\n",
              "      <td>-0.163128</td>\n",
              "    </tr>\n",
              "    <tr>\n",
              "      <th>tenure</th>\n",
              "      <td>0.005285</td>\n",
              "      <td>0.015683</td>\n",
              "      <td>0.381912</td>\n",
              "      <td>0.163386</td>\n",
              "      <td>1.000000</td>\n",
              "      <td>0.007877</td>\n",
              "      <td>0.243214</td>\n",
              "      <td>-0.029835</td>\n",
              "      <td>0.147575</td>\n",
              "      <td>0.423038</td>\n",
              "      <td>0.180895</td>\n",
              "      <td>0.374344</td>\n",
              "      <td>0.328069</td>\n",
              "      <td>0.142143</td>\n",
              "      <td>0.676734</td>\n",
              "      <td>0.004823</td>\n",
              "      <td>0.340939</td>\n",
              "      <td>0.246862</td>\n",
              "      <td>0.825880</td>\n",
              "      <td>-0.354049</td>\n",
              "    </tr>\n",
              "    <tr>\n",
              "      <th>PhoneService</th>\n",
              "      <td>-0.007515</td>\n",
              "      <td>0.008392</td>\n",
              "      <td>0.018397</td>\n",
              "      <td>-0.001078</td>\n",
              "      <td>0.007877</td>\n",
              "      <td>1.000000</td>\n",
              "      <td>-0.690813</td>\n",
              "      <td>0.387266</td>\n",
              "      <td>0.125544</td>\n",
              "      <td>0.014632</td>\n",
              "      <td>0.138938</td>\n",
              "      <td>-0.040368</td>\n",
              "      <td>0.055687</td>\n",
              "      <td>0.164379</td>\n",
              "      <td>0.003019</td>\n",
              "      <td>0.016696</td>\n",
              "      <td>-0.003106</td>\n",
              "      <td>0.248033</td>\n",
              "      <td>0.113008</td>\n",
              "      <td>0.011691</td>\n",
              "    </tr>\n",
              "    <tr>\n",
              "      <th>MultipleLines</th>\n",
              "      <td>0.000084</td>\n",
              "      <td>0.100120</td>\n",
              "      <td>0.090774</td>\n",
              "      <td>-0.017333</td>\n",
              "      <td>0.243214</td>\n",
              "      <td>-0.690813</td>\n",
              "      <td>1.000000</td>\n",
              "      <td>-0.340504</td>\n",
              "      <td>-0.235077</td>\n",
              "      <td>0.095639</td>\n",
              "      <td>-0.200400</td>\n",
              "      <td>0.065993</td>\n",
              "      <td>0.101433</td>\n",
              "      <td>-0.194858</td>\n",
              "      <td>0.078254</td>\n",
              "      <td>0.108261</td>\n",
              "      <td>0.029916</td>\n",
              "      <td>0.146127</td>\n",
              "      <td>0.251357</td>\n",
              "      <td>0.019609</td>\n",
              "    </tr>\n",
              "    <tr>\n",
              "      <th>InternetService</th>\n",
              "      <td>-0.002236</td>\n",
              "      <td>-0.032160</td>\n",
              "      <td>0.000513</td>\n",
              "      <td>0.044030</td>\n",
              "      <td>-0.029835</td>\n",
              "      <td>0.387266</td>\n",
              "      <td>-0.340504</td>\n",
              "      <td>1.000000</td>\n",
              "      <td>0.607412</td>\n",
              "      <td>-0.014056</td>\n",
              "      <td>0.662685</td>\n",
              "      <td>-0.211913</td>\n",
              "      <td>0.169519</td>\n",
              "      <td>0.708336</td>\n",
              "      <td>0.099579</td>\n",
              "      <td>-0.138166</td>\n",
              "      <td>0.008851</td>\n",
              "      <td>-0.322173</td>\n",
              "      <td>-0.175691</td>\n",
              "      <td>-0.047097</td>\n",
              "    </tr>\n",
              "    <tr>\n",
              "      <th>OnlineSecurity</th>\n",
              "      <td>-0.004365</td>\n",
              "      <td>-0.210546</td>\n",
              "      <td>0.081078</td>\n",
              "      <td>0.188889</td>\n",
              "      <td>0.147575</td>\n",
              "      <td>0.125544</td>\n",
              "      <td>-0.235077</td>\n",
              "      <td>0.607412</td>\n",
              "      <td>1.000000</td>\n",
              "      <td>0.179488</td>\n",
              "      <td>0.748684</td>\n",
              "      <td>0.273270</td>\n",
              "      <td>0.043613</td>\n",
              "      <td>0.704672</td>\n",
              "      <td>0.389138</td>\n",
              "      <td>-0.333656</td>\n",
              "      <td>0.214330</td>\n",
              "      <td>-0.620532</td>\n",
              "      <td>-0.153234</td>\n",
              "      <td>-0.332443</td>\n",
              "    </tr>\n",
              "    <tr>\n",
              "      <th>OnlineBackup</th>\n",
              "      <td>-0.013786</td>\n",
              "      <td>-0.003253</td>\n",
              "      <td>0.173154</td>\n",
              "      <td>0.096695</td>\n",
              "      <td>0.423038</td>\n",
              "      <td>0.014632</td>\n",
              "      <td>0.095639</td>\n",
              "      <td>-0.014056</td>\n",
              "      <td>0.179488</td>\n",
              "      <td>1.000000</td>\n",
              "      <td>0.185021</td>\n",
              "      <td>0.190381</td>\n",
              "      <td>0.146821</td>\n",
              "      <td>0.137064</td>\n",
              "      <td>0.318317</td>\n",
              "      <td>0.006299</td>\n",
              "      <td>0.165757</td>\n",
              "      <td>0.252683</td>\n",
              "      <td>0.431750</td>\n",
              "      <td>-0.195758</td>\n",
              "    </tr>\n",
              "    <tr>\n",
              "      <th>DeviceProtection</th>\n",
              "      <td>0.004526</td>\n",
              "      <td>-0.156700</td>\n",
              "      <td>0.093391</td>\n",
              "      <td>0.154819</td>\n",
              "      <td>0.180895</td>\n",
              "      <td>0.138938</td>\n",
              "      <td>-0.200400</td>\n",
              "      <td>0.662685</td>\n",
              "      <td>0.748684</td>\n",
              "      <td>0.185021</td>\n",
              "      <td>1.000000</td>\n",
              "      <td>0.235564</td>\n",
              "      <td>0.275900</td>\n",
              "      <td>0.766635</td>\n",
              "      <td>0.389480</td>\n",
              "      <td>-0.275519</td>\n",
              "      <td>0.192405</td>\n",
              "      <td>-0.512604</td>\n",
              "      <td>-0.077394</td>\n",
              "      <td>-0.281048</td>\n",
              "    </tr>\n",
              "    <tr>\n",
              "      <th>TechSupport</th>\n",
              "      <td>-0.008291</td>\n",
              "      <td>-0.135289</td>\n",
              "      <td>0.144021</td>\n",
              "      <td>0.136108</td>\n",
              "      <td>0.374344</td>\n",
              "      <td>-0.040368</td>\n",
              "      <td>0.065993</td>\n",
              "      <td>-0.211913</td>\n",
              "      <td>0.273270</td>\n",
              "      <td>0.190381</td>\n",
              "      <td>0.235564</td>\n",
              "      <td>1.000000</td>\n",
              "      <td>0.161312</td>\n",
              "      <td>0.163271</td>\n",
              "      <td>0.473857</td>\n",
              "      <td>-0.088187</td>\n",
              "      <td>0.238299</td>\n",
              "      <td>0.135067</td>\n",
              "      <td>0.354257</td>\n",
              "      <td>-0.274112</td>\n",
              "    </tr>\n",
              "    <tr>\n",
              "      <th>StreamingTV</th>\n",
              "      <td>-0.006400</td>\n",
              "      <td>0.034150</td>\n",
              "      <td>0.154387</td>\n",
              "      <td>0.052660</td>\n",
              "      <td>0.328069</td>\n",
              "      <td>0.055687</td>\n",
              "      <td>0.101433</td>\n",
              "      <td>0.169519</td>\n",
              "      <td>0.043613</td>\n",
              "      <td>0.146821</td>\n",
              "      <td>0.275900</td>\n",
              "      <td>0.161312</td>\n",
              "      <td>1.000000</td>\n",
              "      <td>0.435338</td>\n",
              "      <td>0.267383</td>\n",
              "      <td>0.118822</td>\n",
              "      <td>0.041406</td>\n",
              "      <td>0.533069</td>\n",
              "      <td>0.430234</td>\n",
              "      <td>-0.036698</td>\n",
              "    </tr>\n",
              "    <tr>\n",
              "      <th>StreamingMovies</th>\n",
              "      <td>-0.001339</td>\n",
              "      <td>-0.120658</td>\n",
              "      <td>0.075310</td>\n",
              "      <td>0.125086</td>\n",
              "      <td>0.142143</td>\n",
              "      <td>0.164379</td>\n",
              "      <td>-0.194858</td>\n",
              "      <td>0.708336</td>\n",
              "      <td>0.704672</td>\n",
              "      <td>0.137064</td>\n",
              "      <td>0.766635</td>\n",
              "      <td>0.163271</td>\n",
              "      <td>0.435338</td>\n",
              "      <td>1.000000</td>\n",
              "      <td>0.331126</td>\n",
              "      <td>-0.211242</td>\n",
              "      <td>0.124805</td>\n",
              "      <td>-0.423773</td>\n",
              "      <td>-0.072571</td>\n",
              "      <td>-0.207150</td>\n",
              "    </tr>\n",
              "    <tr>\n",
              "      <th>Contract</th>\n",
              "      <td>0.000095</td>\n",
              "      <td>-0.141820</td>\n",
              "      <td>0.294094</td>\n",
              "      <td>0.240556</td>\n",
              "      <td>0.676734</td>\n",
              "      <td>0.003019</td>\n",
              "      <td>0.078254</td>\n",
              "      <td>0.099579</td>\n",
              "      <td>0.389138</td>\n",
              "      <td>0.318317</td>\n",
              "      <td>0.389480</td>\n",
              "      <td>0.473857</td>\n",
              "      <td>0.267383</td>\n",
              "      <td>0.331126</td>\n",
              "      <td>1.000000</td>\n",
              "      <td>-0.175475</td>\n",
              "      <td>0.359487</td>\n",
              "      <td>-0.072739</td>\n",
              "      <td>0.450306</td>\n",
              "      <td>-0.396150</td>\n",
              "    </tr>\n",
              "    <tr>\n",
              "      <th>PaperlessBilling</th>\n",
              "      <td>-0.011902</td>\n",
              "      <td>0.156258</td>\n",
              "      <td>-0.013957</td>\n",
              "      <td>-0.110131</td>\n",
              "      <td>0.004823</td>\n",
              "      <td>0.016696</td>\n",
              "      <td>0.108261</td>\n",
              "      <td>-0.138166</td>\n",
              "      <td>-0.333656</td>\n",
              "      <td>0.006299</td>\n",
              "      <td>-0.275519</td>\n",
              "      <td>-0.088187</td>\n",
              "      <td>0.118822</td>\n",
              "      <td>-0.211242</td>\n",
              "      <td>-0.175475</td>\n",
              "      <td>1.000000</td>\n",
              "      <td>-0.101790</td>\n",
              "      <td>0.351930</td>\n",
              "      <td>0.157830</td>\n",
              "      <td>0.191454</td>\n",
              "    </tr>\n",
              "    <tr>\n",
              "      <th>PaymentMethod</th>\n",
              "      <td>-0.004928</td>\n",
              "      <td>-0.093712</td>\n",
              "      <td>0.133280</td>\n",
              "      <td>0.124002</td>\n",
              "      <td>0.340939</td>\n",
              "      <td>-0.003106</td>\n",
              "      <td>0.029916</td>\n",
              "      <td>0.008851</td>\n",
              "      <td>0.214330</td>\n",
              "      <td>0.165757</td>\n",
              "      <td>0.192405</td>\n",
              "      <td>0.238299</td>\n",
              "      <td>0.041406</td>\n",
              "      <td>0.124805</td>\n",
              "      <td>0.359487</td>\n",
              "      <td>-0.101790</td>\n",
              "      <td>1.000000</td>\n",
              "      <td>-0.074640</td>\n",
              "      <td>0.222694</td>\n",
              "      <td>-0.262918</td>\n",
              "    </tr>\n",
              "    <tr>\n",
              "      <th>MonthlyCharges</th>\n",
              "      <td>-0.013779</td>\n",
              "      <td>0.219874</td>\n",
              "      <td>0.097825</td>\n",
              "      <td>-0.112343</td>\n",
              "      <td>0.246862</td>\n",
              "      <td>0.248033</td>\n",
              "      <td>0.146127</td>\n",
              "      <td>-0.322173</td>\n",
              "      <td>-0.620532</td>\n",
              "      <td>0.252683</td>\n",
              "      <td>-0.512604</td>\n",
              "      <td>0.135067</td>\n",
              "      <td>0.533069</td>\n",
              "      <td>-0.423773</td>\n",
              "      <td>-0.072739</td>\n",
              "      <td>0.351930</td>\n",
              "      <td>-0.074640</td>\n",
              "      <td>1.000000</td>\n",
              "      <td>0.651065</td>\n",
              "      <td>0.192858</td>\n",
              "    </tr>\n",
              "    <tr>\n",
              "      <th>TotalCharges</th>\n",
              "      <td>0.000048</td>\n",
              "      <td>0.102411</td>\n",
              "      <td>0.319072</td>\n",
              "      <td>0.064653</td>\n",
              "      <td>0.825880</td>\n",
              "      <td>0.113008</td>\n",
              "      <td>0.251357</td>\n",
              "      <td>-0.175691</td>\n",
              "      <td>-0.153234</td>\n",
              "      <td>0.431750</td>\n",
              "      <td>-0.077394</td>\n",
              "      <td>0.354257</td>\n",
              "      <td>0.430234</td>\n",
              "      <td>-0.072571</td>\n",
              "      <td>0.450306</td>\n",
              "      <td>0.157830</td>\n",
              "      <td>0.222694</td>\n",
              "      <td>0.651065</td>\n",
              "      <td>1.000000</td>\n",
              "      <td>-0.199484</td>\n",
              "    </tr>\n",
              "    <tr>\n",
              "      <th>Churn</th>\n",
              "      <td>-0.008545</td>\n",
              "      <td>0.150541</td>\n",
              "      <td>-0.149982</td>\n",
              "      <td>-0.163128</td>\n",
              "      <td>-0.354049</td>\n",
              "      <td>0.011691</td>\n",
              "      <td>0.019609</td>\n",
              "      <td>-0.047097</td>\n",
              "      <td>-0.332443</td>\n",
              "      <td>-0.195758</td>\n",
              "      <td>-0.281048</td>\n",
              "      <td>-0.274112</td>\n",
              "      <td>-0.036698</td>\n",
              "      <td>-0.207150</td>\n",
              "      <td>-0.396150</td>\n",
              "      <td>0.191454</td>\n",
              "      <td>-0.262918</td>\n",
              "      <td>0.192858</td>\n",
              "      <td>-0.199484</td>\n",
              "      <td>1.000000</td>\n",
              "    </tr>\n",
              "  </tbody>\n",
              "</table>\n",
              "</div>"
            ],
            "text/plain": [
              "                    gender  SeniorCitizen  ...  TotalCharges     Churn\n",
              "gender            1.000000      -0.001819  ...      0.000048 -0.008545\n",
              "SeniorCitizen    -0.001819       1.000000  ...      0.102411  0.150541\n",
              "Partner          -0.001379       0.016957  ...      0.319072 -0.149982\n",
              "Dependents        0.010349      -0.210550  ...      0.064653 -0.163128\n",
              "tenure            0.005285       0.015683  ...      0.825880 -0.354049\n",
              "PhoneService     -0.007515       0.008392  ...      0.113008  0.011691\n",
              "MultipleLines     0.000084       0.100120  ...      0.251357  0.019609\n",
              "InternetService  -0.002236      -0.032160  ...     -0.175691 -0.047097\n",
              "OnlineSecurity   -0.004365      -0.210546  ...     -0.153234 -0.332443\n",
              "OnlineBackup     -0.013786      -0.003253  ...      0.431750 -0.195758\n",
              "DeviceProtection  0.004526      -0.156700  ...     -0.077394 -0.281048\n",
              "TechSupport      -0.008291      -0.135289  ...      0.354257 -0.274112\n",
              "StreamingTV      -0.006400       0.034150  ...      0.430234 -0.036698\n",
              "StreamingMovies  -0.001339      -0.120658  ...     -0.072571 -0.207150\n",
              "Contract          0.000095      -0.141820  ...      0.450306 -0.396150\n",
              "PaperlessBilling -0.011902       0.156258  ...      0.157830  0.191454\n",
              "PaymentMethod    -0.004928      -0.093712  ...      0.222694 -0.262918\n",
              "MonthlyCharges   -0.013779       0.219874  ...      0.651065  0.192858\n",
              "TotalCharges      0.000048       0.102411  ...      1.000000 -0.199484\n",
              "Churn            -0.008545       0.150541  ...     -0.199484  1.000000\n",
              "\n",
              "[20 rows x 20 columns]"
            ]
          },
          "metadata": {},
          "execution_count": 34
        }
      ]
    },
    {
      "cell_type": "code",
      "metadata": {
        "colab": {
          "base_uri": "https://localhost:8080/",
          "height": 675
        },
        "id": "c37df920",
        "outputId": "84d1c186-2c49-4fd1-8f45-72289df25789"
      },
      "source": [
        "plt.figure(figsize=(15,10))\n",
        "sns.heatmap(df.corr(), cbar = True,annot = True, cmap='YlGnBu', linewidths=1, linecolor='black')"
      ],
      "id": "c37df920",
      "execution_count": 35,
      "outputs": [
        {
          "output_type": "execute_result",
          "data": {
            "text/plain": [
              "<matplotlib.axes._subplots.AxesSubplot at 0x7fe696cb6fd0>"
            ]
          },
          "metadata": {},
          "execution_count": 35
        },
        {
          "output_type": "display_data",
          "data": {
            "image/png": "[encoded data removed]",
            "text/plain": [
              "<Figure size 1080x720 with 2 Axes>"
            ]
          },
          "metadata": {
            "needs_background": "light"
          }
        }
      ]
    },
    {
      "cell_type": "code",
      "metadata": {
        "colab": {
          "base_uri": "https://localhost:8080/",
          "height": 265
        },
        "id": "46b34bdf",
        "outputId": "28929427-52a0-4418-e9b0-a0b9c70202b2"
      },
      "source": [
        "round(df['Churn'].value_counts()/df.shape[0]*100,2).plot.pie()"
      ],
      "id": "46b34bdf",
      "execution_count": 36,
      "outputs": [
        {
          "output_type": "execute_result",
          "data": {
            "text/plain": [
              "<matplotlib.axes._subplots.AxesSubplot at 0x7fe68d267bd0>"
            ]
          },
          "metadata": {},
          "execution_count": 36
        },
        {
          "output_type": "display_data",
          "data": {
            "image/png": "[encoded data removed]",
            "text/plain": [
              "<Figure size 432x288 with 1 Axes>"
            ]
          },
          "metadata": {}
        }
      ]
    },
    {
      "cell_type": "code",
      "metadata": {
        "id": "beb0cd3b"
      },
      "source": [
        "df.dropna(inplace=True)"
      ],
      "id": "beb0cd3b",
      "execution_count": 37,
      "outputs": []
    },
    {
      "cell_type": "code",
      "metadata": {
        "colab": {
          "base_uri": "https://localhost:8080/",
          "height": 226
        },
        "id": "351c756b",
        "outputId": "cf44effc-a348-4b5a-e17a-b84305e68516"
      },
      "source": [
        "X = df.iloc[:, :-1]\n",
        "y = df.iloc[:, -1]\n",
        "X.head()"
      ],
      "id": "351c756b",
      "execution_count": 38,
      "outputs": [
        {
          "output_type": "execute_result",
          "data": {
            "text/html": [
              "<div>\n",
              "<style scoped>\n",
              "    .dataframe tbody tr th:only-of-type {\n",
              "        vertical-align: middle;\n",
              "    }\n",
              "\n",
              "    .dataframe tbody tr th {\n",
              "        vertical-align: top;\n",
              "    }\n",
              "\n",
              "    .dataframe thead th {\n",
              "        text-align: right;\n",
              "    }\n",
              "</style>\n",
              "<table border=\"1\" class=\"dataframe\">\n",
              "  <thead>\n",
              "    <tr style=\"text-align: right;\">\n",
              "      <th></th>\n",
              "      <th>gender</th>\n",
              "      <th>SeniorCitizen</th>\n",
              "      <th>Partner</th>\n",
              "      <th>Dependents</th>\n",
              "      <th>tenure</th>\n",
              "      <th>PhoneService</th>\n",
              "      <th>MultipleLines</th>\n",
              "      <th>InternetService</th>\n",
              "      <th>OnlineSecurity</th>\n",
              "      <th>OnlineBackup</th>\n",
              "      <th>DeviceProtection</th>\n",
              "      <th>TechSupport</th>\n",
              "      <th>StreamingTV</th>\n",
              "      <th>StreamingMovies</th>\n",
              "      <th>Contract</th>\n",
              "      <th>PaperlessBilling</th>\n",
              "      <th>PaymentMethod</th>\n",
              "      <th>MonthlyCharges</th>\n",
              "      <th>TotalCharges</th>\n",
              "    </tr>\n",
              "  </thead>\n",
              "  <tbody>\n",
              "    <tr>\n",
              "      <th>0</th>\n",
              "      <td>0</td>\n",
              "      <td>0</td>\n",
              "      <td>1</td>\n",
              "      <td>0</td>\n",
              "      <td>1</td>\n",
              "      <td>0</td>\n",
              "      <td>2</td>\n",
              "      <td>0</td>\n",
              "      <td>0</td>\n",
              "      <td>1.0</td>\n",
              "      <td>0</td>\n",
              "      <td>0.0</td>\n",
              "      <td>0.0</td>\n",
              "      <td>0</td>\n",
              "      <td>0</td>\n",
              "      <td>1</td>\n",
              "      <td>0</td>\n",
              "      <td>29.85</td>\n",
              "      <td>29.85</td>\n",
              "    </tr>\n",
              "    <tr>\n",
              "      <th>1</th>\n",
              "      <td>1</td>\n",
              "      <td>0</td>\n",
              "      <td>0</td>\n",
              "      <td>0</td>\n",
              "      <td>34</td>\n",
              "      <td>1</td>\n",
              "      <td>0</td>\n",
              "      <td>0</td>\n",
              "      <td>1</td>\n",
              "      <td>0.0</td>\n",
              "      <td>1</td>\n",
              "      <td>0.0</td>\n",
              "      <td>0.0</td>\n",
              "      <td>0</td>\n",
              "      <td>1</td>\n",
              "      <td>0</td>\n",
              "      <td>1</td>\n",
              "      <td>56.95</td>\n",
              "      <td>1889.50</td>\n",
              "    </tr>\n",
              "    <tr>\n",
              "      <th>2</th>\n",
              "      <td>1</td>\n",
              "      <td>0</td>\n",
              "      <td>0</td>\n",
              "      <td>0</td>\n",
              "      <td>2</td>\n",
              "      <td>1</td>\n",
              "      <td>0</td>\n",
              "      <td>0</td>\n",
              "      <td>1</td>\n",
              "      <td>1.0</td>\n",
              "      <td>0</td>\n",
              "      <td>0.0</td>\n",
              "      <td>0.0</td>\n",
              "      <td>0</td>\n",
              "      <td>0</td>\n",
              "      <td>1</td>\n",
              "      <td>1</td>\n",
              "      <td>53.85</td>\n",
              "      <td>108.15</td>\n",
              "    </tr>\n",
              "    <tr>\n",
              "      <th>3</th>\n",
              "      <td>1</td>\n",
              "      <td>0</td>\n",
              "      <td>0</td>\n",
              "      <td>0</td>\n",
              "      <td>45</td>\n",
              "      <td>0</td>\n",
              "      <td>2</td>\n",
              "      <td>0</td>\n",
              "      <td>1</td>\n",
              "      <td>0.0</td>\n",
              "      <td>1</td>\n",
              "      <td>1.0</td>\n",
              "      <td>0.0</td>\n",
              "      <td>0</td>\n",
              "      <td>1</td>\n",
              "      <td>0</td>\n",
              "      <td>2</td>\n",
              "      <td>42.30</td>\n",
              "      <td>1840.75</td>\n",
              "    </tr>\n",
              "    <tr>\n",
              "      <th>4</th>\n",
              "      <td>0</td>\n",
              "      <td>0</td>\n",
              "      <td>0</td>\n",
              "      <td>0</td>\n",
              "      <td>2</td>\n",
              "      <td>1</td>\n",
              "      <td>0</td>\n",
              "      <td>1</td>\n",
              "      <td>0</td>\n",
              "      <td>0.0</td>\n",
              "      <td>0</td>\n",
              "      <td>0.0</td>\n",
              "      <td>0.0</td>\n",
              "      <td>0</td>\n",
              "      <td>0</td>\n",
              "      <td>1</td>\n",
              "      <td>0</td>\n",
              "      <td>70.70</td>\n",
              "      <td>151.65</td>\n",
              "    </tr>\n",
              "  </tbody>\n",
              "</table>\n",
              "</div>"
            ],
            "text/plain": [
              "   gender  SeniorCitizen  Partner  ...  PaymentMethod  MonthlyCharges  TotalCharges\n",
              "0       0              0        1  ...              0           29.85         29.85\n",
              "1       1              0        0  ...              1           56.95       1889.50\n",
              "2       1              0        0  ...              1           53.85        108.15\n",
              "3       1              0        0  ...              2           42.30       1840.75\n",
              "4       0              0        0  ...              0           70.70        151.65\n",
              "\n",
              "[5 rows x 19 columns]"
            ]
          },
          "metadata": {},
          "execution_count": 38
        }
      ]
    },
    {
      "cell_type": "code",
      "metadata": {
        "colab": {
          "base_uri": "https://localhost:8080/"
        },
        "id": "zPNsCKhH_m__",
        "outputId": "0b23ce54-4c21-408b-891c-c3943a5a14b4"
      },
      "source": [
        "y"
      ],
      "id": "zPNsCKhH_m__",
      "execution_count": 39,
      "outputs": [
        {
          "output_type": "execute_result",
          "data": {
            "text/plain": [
              "0       0.0\n",
              "1       0.0\n",
              "2       1.0\n",
              "3       0.0\n",
              "4       1.0\n",
              "       ... \n",
              "7027    0.0\n",
              "7028    0.0\n",
              "7029    0.0\n",
              "7030    1.0\n",
              "7031    0.0\n",
              "Name: Churn, Length: 5512, dtype: float64"
            ]
          },
          "metadata": {},
          "execution_count": 39
        }
      ]
    },
    {
      "cell_type": "code",
      "metadata": {
        "colab": {
          "base_uri": "https://localhost:8080/",
          "height": 555
        },
        "id": "4bfac3b1",
        "outputId": "3abb88d2-e74d-4dee-cd6a-d1829aaa7ba7"
      },
      "source": [
        "plt.style.use(\"ggplot\")\n",
        "fig, ax = plt.subplots(figsize=(5,8))\n",
        "sns.countplot(df[\"gender\"], );"
      ],
      "id": "4bfac3b1",
      "execution_count": 40,
      "outputs": [
        {
          "output_type": "stream",
          "name": "stderr",
          "text": [
            "/usr/local/lib/python3.7/dist-packages/seaborn/_decorators.py:43: FutureWarning: Pass the following variable as a keyword arg: x. From version 0.12, the only valid positional argument will be `data`, and passing other arguments without an explicit keyword will result in an error or misinterpretation.\n",
            "  FutureWarning\n"
          ]
        },
        {
          "output_type": "display_data",
          "data": {
            "image/png": "[encoded data removed]",
            "text/plain": [
              "<Figure size 360x576 with 1 Axes>"
            ]
          },
          "metadata": {}
        }
      ]
    },
    {
      "cell_type": "code",
      "metadata": {
        "colab": {
          "base_uri": "https://localhost:8080/",
          "height": 555
        },
        "id": "ece8d1f1",
        "outputId": "8dda26e5-18a4-40ad-bb2d-f3ff64c2a1dd"
      },
      "source": [
        "plt.style.use(\"ggplot\")\n",
        "fig, ax = plt.subplots(figsize=(5,8))\n",
        "sns.countplot(df[\"Dependents\"], );"
      ],
      "id": "ece8d1f1",
      "execution_count": 41,
      "outputs": [
        {
          "output_type": "stream",
          "name": "stderr",
          "text": [
            "/usr/local/lib/python3.7/dist-packages/seaborn/_decorators.py:43: FutureWarning: Pass the following variable as a keyword arg: x. From version 0.12, the only valid positional argument will be `data`, and passing other arguments without an explicit keyword will result in an error or misinterpretation.\n",
            "  FutureWarning\n"
          ]
        },
        {
          "output_type": "display_data",
          "data": {
            "image/png": "[encoded data removed]",
            "text/plain": [
              "<Figure size 360x576 with 1 Axes>"
            ]
          },
          "metadata": {}
        }
      ]
    },
    {
      "cell_type": "code",
      "metadata": {
        "colab": {
          "base_uri": "https://localhost:8080/"
        },
        "id": "YnA_QmGb_wco",
        "outputId": "0a08d5eb-0080-47a0-bbb8-a176b72f920e"
      },
      "source": [
        "pd.DataFrame(X).info()"
      ],
      "id": "YnA_QmGb_wco",
      "execution_count": 42,
      "outputs": [
        {
          "output_type": "stream",
          "name": "stdout",
          "text": [
            "<class 'pandas.core.frame.DataFrame'>\n",
            "Int64Index: 5512 entries, 0 to 7031\n",
            "Data columns (total 19 columns):\n",
            " #   Column            Non-Null Count  Dtype  \n",
            "---  ------            --------------  -----  \n",
            " 0   gender            5512 non-null   int64  \n",
            " 1   SeniorCitizen     5512 non-null   int64  \n",
            " 2   Partner           5512 non-null   int64  \n",
            " 3   Dependents        5512 non-null   int64  \n",
            " 4   tenure            5512 non-null   int64  \n",
            " 5   PhoneService      5512 non-null   int64  \n",
            " 6   MultipleLines     5512 non-null   int64  \n",
            " 7   InternetService   5512 non-null   int64  \n",
            " 8   OnlineSecurity    5512 non-null   int64  \n",
            " 9   OnlineBackup      5512 non-null   float64\n",
            " 10  DeviceProtection  5512 non-null   int64  \n",
            " 11  TechSupport       5512 non-null   float64\n",
            " 12  StreamingTV       5512 non-null   float64\n",
            " 13  StreamingMovies   5512 non-null   int64  \n",
            " 14  Contract          5512 non-null   int64  \n",
            " 15  PaperlessBilling  5512 non-null   int64  \n",
            " 16  PaymentMethod     5512 non-null   int64  \n",
            " 17  MonthlyCharges    5512 non-null   float64\n",
            " 18  TotalCharges      5512 non-null   float64\n",
            "dtypes: float64(5), int64(14)\n",
            "memory usage: 1021.2 KB\n"
          ]
        }
      ]
    },
    {
      "cell_type": "code",
      "metadata": {
        "colab": {
          "base_uri": "https://localhost:8080/"
        },
        "id": "H_wrgYPaAPZA",
        "outputId": "70f05ffe-1358-48b2-c6e5-63f14cebe26e"
      },
      "source": [
        "pd.DataFrame(X).isnull().count()"
      ],
      "id": "H_wrgYPaAPZA",
      "execution_count": 45,
      "outputs": [
        {
          "output_type": "execute_result",
          "data": {
            "text/plain": [
              "gender              5512\n",
              "SeniorCitizen       5512\n",
              "Partner             5512\n",
              "Dependents          5512\n",
              "tenure              5512\n",
              "PhoneService        5512\n",
              "MultipleLines       5512\n",
              "InternetService     5512\n",
              "OnlineSecurity      5512\n",
              "OnlineBackup        5512\n",
              "DeviceProtection    5512\n",
              "TechSupport         5512\n",
              "StreamingTV         5512\n",
              "StreamingMovies     5512\n",
              "Contract            5512\n",
              "PaperlessBilling    5512\n",
              "PaymentMethod       5512\n",
              "MonthlyCharges      5512\n",
              "TotalCharges        5512\n",
              "dtype: int64"
            ]
          },
          "metadata": {},
          "execution_count": 45
        }
      ]
    },
    {
      "cell_type": "code",
      "metadata": {
        "id": "a61468fb"
      },
      "source": [
        "from sklearn.model_selection import train_test_split\n",
        "X_train, X_test, y_train, y_test = train_test_split(X, y, test_size=0.25)"
      ],
      "id": "a61468fb",
      "execution_count": 48,
      "outputs": []
    },
    {
      "cell_type": "code",
      "metadata": {
        "colab": {
          "base_uri": "https://localhost:8080/"
        },
        "id": "37967df1",
        "outputId": "b99dc1f5-42a4-42ee-f1b8-0a51eb05fd8c"
      },
      "source": [
        "print(f\"\"\"\n",
        "x_train shape: {X_train.shape}, \n",
        "y_train shape: {y_train.shape},\n",
        "X_test shape: {X_test.shape},\n",
        "y_test shape: {y_test.shape}\n",
        "\"\"\" )"
      ],
      "id": "37967df1",
      "execution_count": 49,
      "outputs": [
        {
          "output_type": "stream",
          "name": "stdout",
          "text": [
            "\n",
            "x_train shape: (4134, 19), \n",
            "y_train shape: (4134,),\n",
            "X_test shape: (1378, 19),\n",
            "y_test shape: (1378,)\n",
            "\n"
          ]
        }
      ]
    },
    {
      "cell_type": "code",
      "metadata": {
        "id": "9fTCjniRCmyj"
      },
      "source": [
        "#EVALUATION OF OUR MODELS\n",
        "from sklearn.metrics import f1_score\n",
        "from sklearn.metrics import accuracy_score, classification_report\n",
        "from sklearn.metrics import confusion_matrix"
      ],
      "id": "9fTCjniRCmyj",
      "execution_count": 52,
      "outputs": []
    },
    {
      "cell_type": "code",
      "metadata": {
        "colab": {
          "base_uri": "https://localhost:8080/"
        },
        "id": "6cc32481",
        "outputId": "14b762f5-ebfe-4e9a-e4c8-5ffb830be82e"
      },
      "source": [
        "#Training Dataset with Random Forest Classifier\n",
        "from sklearn.ensemble import RandomForestClassifier\n",
        "rf = RandomForestClassifier(n_estimators = 200)\n",
        "rf.fit(X_train,y_train)\n",
        "RandomForestClassifierScore = rf.score(X_test, y_test)\n",
        "print(\"Accuracy obtained by Random Forest Classifier model:\",RandomForestClassifierScore*100)"
      ],
      "id": "6cc32481",
      "execution_count": 50,
      "outputs": [
        {
          "output_type": "stream",
          "name": "stdout",
          "text": [
            "Accuracy obtained by Random Forest Classifier model: 75.03628447024674\n"
          ]
        }
      ]
    },
    {
      "cell_type": "code",
      "metadata": {
        "colab": {
          "base_uri": "https://localhost:8080/"
        },
        "id": "2f3be1e6",
        "outputId": "200fa053-8a0a-4a51-b03f-9b072a66ed1c"
      },
      "source": [
        "rf_pred = rf.predict(X_test)\n",
        "print(confusion_matrix(y_test, rf_pred))\n",
        "print(classification_report(y_test, rf_pred))"
      ],
      "id": "2f3be1e6",
      "execution_count": 53,
      "outputs": [
        {
          "output_type": "stream",
          "name": "stdout",
          "text": [
            "[[798 116]\n",
            " [228 236]]\n",
            "              precision    recall  f1-score   support\n",
            "\n",
            "         0.0       0.78      0.87      0.82       914\n",
            "         1.0       0.67      0.51      0.58       464\n",
            "\n",
            "    accuracy                           0.75      1378\n",
            "   macro avg       0.72      0.69      0.70      1378\n",
            "weighted avg       0.74      0.75      0.74      1378\n",
            "\n"
          ]
        }
      ]
    },
    {
      "cell_type": "code",
      "metadata": {
        "colab": {
          "base_uri": "https://localhost:8080/"
        },
        "id": "4cfabb7a",
        "outputId": "46ec78f5-b97d-427f-97a0-9bd5cf9537f3"
      },
      "source": [
        "from sklearn.tree import DecisionTreeClassifier\n",
        "tree = DecisionTreeClassifier(random_state=0)\n",
        "tree.fit(X_train, y_train)\n",
        "DecisionTreeClassifierScore = tree.score(X_test, y_test)\n",
        "print(\"Accuracy obtained by Decision Tree Classifier model:\",DecisionTreeClassifierScore*100)"
      ],
      "id": "4cfabb7a",
      "execution_count": 54,
      "outputs": [
        {
          "output_type": "stream",
          "name": "stdout",
          "text": [
            "Accuracy obtained by Decision Tree Classifier model: 69.01306240928882\n"
          ]
        }
      ]
    },
    {
      "cell_type": "code",
      "metadata": {
        "colab": {
          "base_uri": "https://localhost:8080/"
        },
        "id": "kpTB2quDCyuh",
        "outputId": "60b7b113-43db-4826-b284-b22397078993"
      },
      "source": [
        "tree_pred = tree.predict(X_test)\n",
        "print(confusion_matrix(y_test, tree_pred))\n",
        "print(classification_report(y_test, tree_pred))"
      ],
      "id": "kpTB2quDCyuh",
      "execution_count": 55,
      "outputs": [
        {
          "output_type": "stream",
          "name": "stdout",
          "text": [
            "[[698 216]\n",
            " [211 253]]\n",
            "              precision    recall  f1-score   support\n",
            "\n",
            "         0.0       0.77      0.76      0.77       914\n",
            "         1.0       0.54      0.55      0.54       464\n",
            "\n",
            "    accuracy                           0.69      1378\n",
            "   macro avg       0.65      0.65      0.65      1378\n",
            "weighted avg       0.69      0.69      0.69      1378\n",
            "\n"
          ]
        }
      ]
    },
    {
      "cell_type": "code",
      "metadata": {
        "id": "yBAEpfR4C5Au"
      },
      "source": [
        ""
      ],
      "id": "yBAEpfR4C5Au",
      "execution_count": null,
      "outputs": []
    }
  ]
}